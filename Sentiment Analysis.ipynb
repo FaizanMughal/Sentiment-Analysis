{
  "nbformat": 4,
  "nbformat_minor": 0,
  "metadata": {
    "colab": {
      "provenance": []
    },
    "kernelspec": {
      "name": "python3",
      "display_name": "Python 3"
    },
    "language_info": {
      "name": "python"
    }
  },
  "cells": [
    {
      "cell_type": "code",
      "source": [
        "import pandas as pd\n",
        "from sklearn.model_selection import train_test_split\n",
        "from sklearn.feature_extraction.text import CountVectorizer, TfidfVectorizer\n",
        "from sklearn.naive_bayes import MultinomialNB\n",
        "from sklearn.linear_model import LogisticRegression, Perceptron\n",
        "from sklearn.ensemble import RandomForestClassifier\n",
        "from sklearn.svm import SVC\n",
        "from sklearn import metrics"
      ],
      "metadata": {
        "id": "ffYe-GGcRNWp"
      },
      "execution_count": 5,
      "outputs": []
    },
    {
      "cell_type": "code",
      "source": [
        "# Load the dataset with specified encoding\n",
        "df = pd.read_csv('/content/Dataset.csv', encoding='latin1')"
      ],
      "metadata": {
        "id": "fqiV1OZHRRDc"
      },
      "execution_count": 7,
      "outputs": []
    },
    {
      "cell_type": "code",
      "source": [
        "# Split the data into training and testing sets\n",
        "X_train, X_test, y_train, y_test = train_test_split(df['text'], df['sentiment'], test_size=0.2, random_state=42)\n"
      ],
      "metadata": {
        "id": "gOlzzXnLR-ag"
      },
      "execution_count": 8,
      "outputs": []
    },
    {
      "cell_type": "code",
      "source": [
        "# Define feature extraction methods\n",
        "vectorizers = {\n",
        "    'BoW_Count': CountVectorizer(),\n",
        "    'BoW_TfIDF': TfidfVectorizer(),\n",
        "    'ngrams': CountVectorizer(ngram_range=(1, 3))\n",
        "}"
      ],
      "metadata": {
        "id": "pGziP22gR_rA"
      },
      "execution_count": 9,
      "outputs": []
    },
    {
      "cell_type": "code",
      "source": [
        "# Define classifiers\n",
        "classifiers = {\n",
        "    'Naive Bayes': MultinomialNB(),\n",
        "    'Logistic Regression': LogisticRegression(),\n",
        "    'Random Forest': RandomForestClassifier(),\n",
        "    'SVM': SVC(),\n",
        "    'Perceptron': Perceptron()\n",
        "}"
      ],
      "metadata": {
        "id": "prlzUwoNSESE"
      },
      "execution_count": 10,
      "outputs": []
    },
    {
      "cell_type": "code",
      "source": [
        "# Train and evaluate classifiers\n",
        "results = []\n",
        "\n",
        "for vec_name, vectorizer in vectorizers.items():\n",
        "    for clf_name, classifier in classifiers.items():\n",
        "        # Vectorize the data\n",
        "        X_train_vec = vectorizer.fit_transform(X_train)\n",
        "        X_test_vec = vectorizer.transform(X_test)\n",
        "\n",
        "        # Train the classifier\n",
        "        classifier.fit(X_train_vec, y_train)\n",
        "\n",
        "        # Predict on the test set\n",
        "        y_pred = classifier.predict(X_test_vec)\n",
        "\n",
        "        # Evaluate performance\n",
        "        accuracy = metrics.accuracy_score(y_test, y_pred)\n",
        "        precision, recall, f1_score, _ = metrics.precision_recall_fscore_support(y_test, y_pred, average='micro')\n",
        "\n",
        "        # Save results\n",
        "        results.append({\n",
        "            'Vectorizer': vec_name,\n",
        "            'Classifier': clf_name,\n",
        "            'Accuracy': accuracy,\n",
        "            'Precision': precision,\n",
        "            'Recall': recall,\n",
        "            'F1 Score': f1_score\n",
        "        })"
      ],
      "metadata": {
        "colab": {
          "base_uri": "https://localhost:8080/"
        },
        "id": "BrX5g1TeSL-f",
        "outputId": "d7f254cf-cf0b-4345-bc00-070b9a6abfeb"
      },
      "execution_count": 11,
      "outputs": [
        {
          "output_type": "stream",
          "name": "stderr",
          "text": [
            "/usr/local/lib/python3.10/dist-packages/sklearn/linear_model/_logistic.py:458: ConvergenceWarning: lbfgs failed to converge (status=1):\n",
            "STOP: TOTAL NO. of ITERATIONS REACHED LIMIT.\n",
            "\n",
            "Increase the number of iterations (max_iter) or scale the data as shown in:\n",
            "    https://scikit-learn.org/stable/modules/preprocessing.html\n",
            "Please also refer to the documentation for alternative solver options:\n",
            "    https://scikit-learn.org/stable/modules/linear_model.html#logistic-regression\n",
            "  n_iter_i = _check_optimize_result(\n",
            "/usr/local/lib/python3.10/dist-packages/sklearn/linear_model/_logistic.py:458: ConvergenceWarning: lbfgs failed to converge (status=1):\n",
            "STOP: TOTAL NO. of ITERATIONS REACHED LIMIT.\n",
            "\n",
            "Increase the number of iterations (max_iter) or scale the data as shown in:\n",
            "    https://scikit-learn.org/stable/modules/preprocessing.html\n",
            "Please also refer to the documentation for alternative solver options:\n",
            "    https://scikit-learn.org/stable/modules/linear_model.html#logistic-regression\n",
            "  n_iter_i = _check_optimize_result(\n"
          ]
        }
      ]
    },
    {
      "cell_type": "code",
      "source": [
        "# Display results in a table\n",
        "results_df = pd.DataFrame(results)\n",
        "print(results_df)"
      ],
      "metadata": {
        "colab": {
          "base_uri": "https://localhost:8080/"
        },
        "id": "b-E4sYnhScsK",
        "outputId": "2402e02d-64bc-4c0f-a549-abf4ba85280d"
      },
      "execution_count": 12,
      "outputs": [
        {
          "output_type": "stream",
          "name": "stdout",
          "text": [
            "   Vectorizer           Classifier  Accuracy  Precision    Recall  F1 Score\n",
            "0   BoW_Count          Naive Bayes  0.726221   0.726221  0.726221  0.726221\n",
            "1   BoW_Count  Logistic Regression  0.748072   0.748072  0.748072  0.748072\n",
            "2   BoW_Count        Random Forest  0.733933   0.733933  0.733933  0.733933\n",
            "3   BoW_Count                  SVM  0.735219   0.735219  0.735219  0.735219\n",
            "4   BoW_Count           Perceptron  0.733933   0.733933  0.733933  0.733933\n",
            "5   BoW_TfIDF          Naive Bayes  0.751928   0.751928  0.751928  0.751928\n",
            "6   BoW_TfIDF  Logistic Regression  0.740360   0.740360  0.740360  0.740360\n",
            "7   BoW_TfIDF        Random Forest  0.727506   0.727506  0.727506  0.727506\n",
            "8   BoW_TfIDF                  SVM  0.750643   0.750643  0.750643  0.750643\n",
            "9   BoW_TfIDF           Perceptron  0.700514   0.700514  0.700514  0.700514\n",
            "10     ngrams          Naive Bayes  0.742931   0.742931  0.742931  0.742931\n",
            "11     ngrams  Logistic Regression  0.739075   0.739075  0.739075  0.739075\n",
            "12     ngrams        Random Forest  0.731362   0.731362  0.731362  0.731362\n",
            "13     ngrams                  SVM  0.718509   0.718509  0.718509  0.718509\n",
            "14     ngrams           Perceptron  0.728792   0.728792  0.728792  0.728792\n"
          ]
        }
      ]
    }
  ]
}