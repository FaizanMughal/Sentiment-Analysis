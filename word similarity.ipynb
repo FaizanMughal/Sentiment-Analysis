{
  "nbformat": 4,
  "nbformat_minor": 0,
  "metadata": {
    "colab": {
      "provenance": []
    },
    "kernelspec": {
      "name": "python3",
      "display_name": "Python 3"
    },
    "language_info": {
      "name": "python"
    }
  },
  "cells": [
    {
      "cell_type": "code",
      "source": [
        "pip install spacy\n"
      ],
      "metadata": {
        "colab": {
          "base_uri": "https://localhost:8080/"
        },
        "id": "nyft9C4nNun2",
        "outputId": "20a569f1-026c-4444-ebfd-9fbc137f9075"
      },
      "execution_count": 1,
      "outputs": [
        {
          "output_type": "stream",
          "name": "stdout",
          "text": [
            "Requirement already satisfied: spacy in /usr/local/lib/python3.10/dist-packages (3.7.4)\n",
            "Requirement already satisfied: spacy-legacy<3.1.0,>=3.0.11 in /usr/local/lib/python3.10/dist-packages (from spacy) (3.0.12)\n",
            "Requirement already satisfied: spacy-loggers<2.0.0,>=1.0.0 in /usr/local/lib/python3.10/dist-packages (from spacy) (1.0.5)\n",
            "Requirement already satisfied: murmurhash<1.1.0,>=0.28.0 in /usr/local/lib/python3.10/dist-packages (from spacy) (1.0.10)\n",
            "Requirement already satisfied: cymem<2.1.0,>=2.0.2 in /usr/local/lib/python3.10/dist-packages (from spacy) (2.0.8)\n",
            "Requirement already satisfied: preshed<3.1.0,>=3.0.2 in /usr/local/lib/python3.10/dist-packages (from spacy) (3.0.9)\n",
            "Requirement already satisfied: thinc<8.3.0,>=8.2.2 in /usr/local/lib/python3.10/dist-packages (from spacy) (8.2.3)\n",
            "Requirement already satisfied: wasabi<1.2.0,>=0.9.1 in /usr/local/lib/python3.10/dist-packages (from spacy) (1.1.2)\n",
            "Requirement already satisfied: srsly<3.0.0,>=2.4.3 in /usr/local/lib/python3.10/dist-packages (from spacy) (2.4.8)\n",
            "Requirement already satisfied: catalogue<2.1.0,>=2.0.6 in /usr/local/lib/python3.10/dist-packages (from spacy) (2.0.10)\n",
            "Requirement already satisfied: weasel<0.4.0,>=0.1.0 in /usr/local/lib/python3.10/dist-packages (from spacy) (0.3.4)\n",
            "Requirement already satisfied: typer<0.10.0,>=0.3.0 in /usr/local/lib/python3.10/dist-packages (from spacy) (0.9.0)\n",
            "Requirement already satisfied: smart-open<7.0.0,>=5.2.1 in /usr/local/lib/python3.10/dist-packages (from spacy) (6.4.0)\n",
            "Requirement already satisfied: tqdm<5.0.0,>=4.38.0 in /usr/local/lib/python3.10/dist-packages (from spacy) (4.66.2)\n",
            "Requirement already satisfied: requests<3.0.0,>=2.13.0 in /usr/local/lib/python3.10/dist-packages (from spacy) (2.31.0)\n",
            "Requirement already satisfied: pydantic!=1.8,!=1.8.1,<3.0.0,>=1.7.4 in /usr/local/lib/python3.10/dist-packages (from spacy) (2.6.3)\n",
            "Requirement already satisfied: jinja2 in /usr/local/lib/python3.10/dist-packages (from spacy) (3.1.3)\n",
            "Requirement already satisfied: setuptools in /usr/local/lib/python3.10/dist-packages (from spacy) (67.7.2)\n",
            "Requirement already satisfied: packaging>=20.0 in /usr/local/lib/python3.10/dist-packages (from spacy) (23.2)\n",
            "Requirement already satisfied: langcodes<4.0.0,>=3.2.0 in /usr/local/lib/python3.10/dist-packages (from spacy) (3.3.0)\n",
            "Requirement already satisfied: numpy>=1.19.0 in /usr/local/lib/python3.10/dist-packages (from spacy) (1.25.2)\n",
            "Requirement already satisfied: annotated-types>=0.4.0 in /usr/local/lib/python3.10/dist-packages (from pydantic!=1.8,!=1.8.1,<3.0.0,>=1.7.4->spacy) (0.6.0)\n",
            "Requirement already satisfied: pydantic-core==2.16.3 in /usr/local/lib/python3.10/dist-packages (from pydantic!=1.8,!=1.8.1,<3.0.0,>=1.7.4->spacy) (2.16.3)\n",
            "Requirement already satisfied: typing-extensions>=4.6.1 in /usr/local/lib/python3.10/dist-packages (from pydantic!=1.8,!=1.8.1,<3.0.0,>=1.7.4->spacy) (4.10.0)\n",
            "Requirement already satisfied: charset-normalizer<4,>=2 in /usr/local/lib/python3.10/dist-packages (from requests<3.0.0,>=2.13.0->spacy) (3.3.2)\n",
            "Requirement already satisfied: idna<4,>=2.5 in /usr/local/lib/python3.10/dist-packages (from requests<3.0.0,>=2.13.0->spacy) (3.6)\n",
            "Requirement already satisfied: urllib3<3,>=1.21.1 in /usr/local/lib/python3.10/dist-packages (from requests<3.0.0,>=2.13.0->spacy) (2.0.7)\n",
            "Requirement already satisfied: certifi>=2017.4.17 in /usr/local/lib/python3.10/dist-packages (from requests<3.0.0,>=2.13.0->spacy) (2024.2.2)\n",
            "Requirement already satisfied: blis<0.8.0,>=0.7.8 in /usr/local/lib/python3.10/dist-packages (from thinc<8.3.0,>=8.2.2->spacy) (0.7.11)\n",
            "Requirement already satisfied: confection<1.0.0,>=0.0.1 in /usr/local/lib/python3.10/dist-packages (from thinc<8.3.0,>=8.2.2->spacy) (0.1.4)\n",
            "Requirement already satisfied: click<9.0.0,>=7.1.1 in /usr/local/lib/python3.10/dist-packages (from typer<0.10.0,>=0.3.0->spacy) (8.1.7)\n",
            "Requirement already satisfied: cloudpathlib<0.17.0,>=0.7.0 in /usr/local/lib/python3.10/dist-packages (from weasel<0.4.0,>=0.1.0->spacy) (0.16.0)\n",
            "Requirement already satisfied: MarkupSafe>=2.0 in /usr/local/lib/python3.10/dist-packages (from jinja2->spacy) (2.1.5)\n"
          ]
        }
      ]
    },
    {
      "cell_type": "code",
      "source": [
        "import pandas as pd\n",
        "import spacy"
      ],
      "metadata": {
        "id": "I_BYsa_sOESQ"
      },
      "execution_count": 3,
      "outputs": []
    },
    {
      "cell_type": "code",
      "source": [
        "# Load spaCy language model\n",
        "nlp = spacy.load(\"en_core_web_sm\")"
      ],
      "metadata": {
        "id": "AsJsSBquOFnX"
      },
      "execution_count": 4,
      "outputs": []
    },
    {
      "cell_type": "code",
      "execution_count": 5,
      "metadata": {
        "id": "sqn4iy9ANaRw"
      },
      "outputs": [],
      "source": [
        "# List of banks to compare\n",
        "banks =   ['Sberbank Europe AG',\n",
        "          'BAWAG Group AG',\n",
        "          'Raiffeisenbankengruppe OÖ Verbund eGen',\n",
        "          'Raiffeisen Bank International AG',\n",
        "          'Volksbanken Verbund',\n",
        "          'Erste Group Bank AG',\n",
        "          'KBC Groep',\n",
        "          'Investeringsmaatschappij Argenta',\n",
        "          'Belfius Bank',\n",
        "          'AXA Bank Belgium',\n",
        "          'The Bank of New York Mellon SA/NV',\n",
        "          'First Investment Bank AD',\n",
        "          'RCB Bank Ltd',\n",
        "          'Bank of Cyprus Holdings Public Limited Company',\n",
        "          'Hellenic Bank Public Company Limited',\n",
        "          'DekaBank Deutsche Girozentrale',\n",
        "          'Erwerbsgesellschaft der S-Finanzgruppe mbH & Co. KG',\n",
        "          'UBS Europe SE',\n",
        "          'DEUTSCHE APOTHEKER- UND ÄRZTEBANK EG',\n",
        "          'Volkswagen Bank Gesellschaft mit beschränkter Haftung',\n",
        "          'Münchener Hypothekenbank eG',\n",
        "          'DZ BANK AG Deutsche Zentral-Genossenschaftsbank, Frankfurt am Main',\n",
        "          'HASPA Finanzholding',\n",
        "          'State Street Europe Holdings Germany S.a.r.l. & Co. KG',\n",
        "          'J.P. Morgan AG',\n",
        "          'DEUTSCHE BANK AKTIENGESELLSCHAFT',\n",
        "          'COMMERZBANK Aktiengesellschaft',\n",
        "          'Landesbank Baden-Württemberg',\n",
        "          'Landesbank Hessen-Thüringen Girozentrale',\n",
        "          'Norddeutsche Landesbank - Girozentrale -',\n",
        "          'Deutsche Pfandbriefbank AG',\n",
        "          'Aareal Bank AG',\n",
        "          'Hamburg Commercial Bank AG',\n",
        "          'Bayerische Landesbank',\n",
        "          'Jyske Bank A/S',\n",
        "          'Sydbank A/S',\n",
        "          'Nykredit Realkredit A/S',\n",
        "          'Danske Bank A/S',\n",
        "          'Luminor Holding AS',\n",
        "          'Abanca Corporacion Bancaria S.A.',\n",
        "          'Banco Santander S.A.',\n",
        "          'Ibercaja Banco S.A.',\n",
        "          'Kutxabank S.A',\n",
        "          'Unicaja Banco S.A.',\n",
        "          'CaixaBank S.A.',\n",
        "          'Banco de Crédito Social Cooperativo',\n",
        "          'Banco Bilbao Vizcaya Argentaria S.A.',\n",
        "          'Banco de Sabadell S.A.',\n",
        "          'Bankinter S.A.',\n",
        "          'Kuntarahoitus Oyj',\n",
        "          'Nordea Bank Abp',\n",
        "          'OP Osuuskunta',\n",
        "          'SFIL',\n",
        "          'RCI Banque',\n",
        "          'Confédération Nationale du Crédit Mutuel',\n",
        "          'La Banque Postale',\n",
        "          'Bpifrance',\n",
        "          \"C.R.H. - Caisse de refinancement de l'habitat\",\n",
        "          'HSBC Continental Europe',\n",
        "          'Groupe BPCE',\n",
        "          'Groupe Crédit Agricole',\n",
        "          'Société générale',\n",
        "          'BNP Paribas',\n",
        "          'ALPHA SERVICES AND HOLDINGS S.A.',\n",
        "          'National Bank of Greece S.A.',\n",
        "          'Eurobank Ergasias Services and Holdings S.A.',\n",
        "          'Piraeus Financial Holdings',\n",
        "          'OTP-csoport',\n",
        "          'Magyar Bankholding',\n",
        "          'Barclays Bank Ireland plc',\n",
        "          'Citibank Holdings Ireland Limited',\n",
        "          'AIB Group plc',\n",
        "          'Bank of Ireland Group plc',\n",
        "          'Ulster Bank Ireland Designated Activity Company',\n",
        "          'Bank of America Europe Designated Activity Company',\n",
        "          'Íslandsbanki hf.',\n",
        "          'Landsbankinn hf.',\n",
        "          'Arion banki hf',\n",
        "          'Intesa Sanpaolo S.p.A.',\n",
        "          'Gruppo Bancario Finecobank  ',\n",
        "          'UniCredit S.p.A.',\n",
        "          'Gruppo Bancario Mediolanum  ',\n",
        "          'Credito Emiliano Holding S.p.A.',\n",
        "          'Banco BPM SpA',\n",
        "          'Banca Popolare di Sondrio, Società Cooperativa per Azioni',\n",
        "          'Banca Monte dei Paschi di Siena S.p.A.',\n",
        "          'CASSA CENTRALE BANCA',\n",
        "          'ICCREA BANCA S.P.A.',\n",
        "          'Mediobanca - Banca di Credito Finanziario S.p.A.',\n",
        "          'Akcine bendrove Šiauliu bankas',\n",
        "          'Precision Capital S.A.',\n",
        "          'RBC Investor Services Bank S.A.',\n",
        "          'J.P. Morgan Bank Luxembourg S.A.',\n",
        "          'Banque Internationale à Luxembourg',\n",
        "          'Banque et Caisse d´Epargne de l´Etat, Luxembourg',\n",
        "          'Akciju sabiedriba \"Citadele banka\"',\n",
        "          'MDB Group Limited',\n",
        "          'Bank of Valletta Plc',\n",
        "          'HSBC Bank Malta p.l.c.',\n",
        "          'BNG Bank N.V.',\n",
        "          'ING Groep N.V.',\n",
        "          'LP Group B.V.',\n",
        "          'de Volksbank N.V.',\n",
        "          'ABN AMRO Bank N.V.',\n",
        "          'Coöperatieve Rabobank U.A.',\n",
        "          'Nederlandse Waterschapsbank N.V.',\n",
        "          'Bank Polska Kasa Opieki S.A.',\n",
        "          'Powszechna Kasa Oszczednosci Bank Polski S.A.',\n",
        "          'LSF Nani Investments S.à r.l.',\n",
        "          'Banco Comercial Português SA',\n",
        "          'Caixa Geral de Depósitos SA',\n",
        "          'Banca Transilvania',\n",
        "          'Länförsäkringar Bank AB (publ)',\n",
        "          'Kommuninvest - group',\n",
        "          'Skandinaviska Enskilda Banken - group',\n",
        "          'SBAB Bank AB - group',\n",
        "          'Swedbank - group',\n",
        "          'Svenska Handelsbanken - group',\n",
        "          'Biser Topco S.à r.l.',\n",
        "          'Nova Ljubljanska Banka d.d. Ljubljana']\n",
        "\n"
      ]
    },
    {
      "cell_type": "code",
      "source": [
        "# Example of a search string\n",
        "s1 = 'Bawag bank'"
      ],
      "metadata": {
        "id": "uZkub2U0ORnL"
      },
      "execution_count": 6,
      "outputs": []
    },
    {
      "cell_type": "code",
      "source": [
        "# Define a function for calculating similarity using spaCy\n",
        "def calculate_similarity(query, bank_name):\n",
        "    query_doc = nlp(query)\n",
        "    bank_doc = nlp(bank_name)\n",
        "    similarity_score = query_doc.similarity(bank_doc)\n",
        "    return similarity_score\n"
      ],
      "metadata": {
        "id": "IyryCAGYOVDc"
      },
      "execution_count": 7,
      "outputs": []
    },
    {
      "cell_type": "code",
      "source": [
        "# Calculate similarity for each bank name\n",
        "res = []\n",
        "for bank_name in banks:\n",
        "    similarity_score = calculate_similarity(s1, bank_name)\n",
        "    res.append([s1, bank_name, similarity_score])\n"
      ],
      "metadata": {
        "colab": {
          "base_uri": "https://localhost:8080/"
        },
        "id": "XCI7-h0XOYwt",
        "outputId": "48e61dd1-ddb1-4bb7-991f-78d28fc0403b"
      },
      "execution_count": 8,
      "outputs": [
        {
          "output_type": "stream",
          "name": "stderr",
          "text": [
            "<ipython-input-7-36da009198d9>:5: UserWarning: [W007] The model you're using has no word vectors loaded, so the result of the Doc.similarity method will be based on the tagger, parser and NER, which may not give useful similarity judgements. This may happen if you're using one of the small models, e.g. `en_core_web_sm`, which don't ship with word vectors and only use context-sensitive tensors. You can always add your own word vectors, or use one of the larger models instead if available.\n",
            "  similarity_score = query_doc.similarity(bank_doc)\n"
          ]
        }
      ]
    },
    {
      "cell_type": "code",
      "source": [
        "# Create a DataFrame\n",
        "df2 = pd.DataFrame(res, columns=['Query', 'Bank', 'Similarity'])\n"
      ],
      "metadata": {
        "id": "e_qScxa_ObCw"
      },
      "execution_count": 9,
      "outputs": []
    },
    {
      "cell_type": "code",
      "source": [
        "# Sort the DataFrame by Similarity in descending order\n",
        "sorted_df = df2.sort_values(by=['Similarity'], ascending=[False])\n"
      ],
      "metadata": {
        "id": "qs69OTFbOdRS"
      },
      "execution_count": 10,
      "outputs": []
    },
    {
      "cell_type": "code",
      "source": [
        "# Display the results\n",
        "print(sorted_df.head())\n"
      ],
      "metadata": {
        "colab": {
          "base_uri": "https://localhost:8080/"
        },
        "id": "NBWrGxHwN4on",
        "outputId": "913cb7cf-e54f-4933-9acd-c33334deedca"
      },
      "execution_count": 11,
      "outputs": [
        {
          "output_type": "stream",
          "name": "stdout",
          "text": [
            "          Query                              Bank  Similarity\n",
            "53   Bawag bank                        RCI Banque    0.819847\n",
            "8    Bawag bank                      Belfius Bank    0.808136\n",
            "99   Bawag bank                     BNG Bank N.V.    0.788363\n",
            "105  Bawag bank  Nederlandse Waterschapsbank N.V.    0.765866\n",
            "9    Bawag bank                  AXA Bank Belgium    0.763475\n"
          ]
        }
      ]
    },
    {
      "cell_type": "code",
      "source": [],
      "metadata": {
        "id": "z5CMAcj6O1Ec"
      },
      "execution_count": null,
      "outputs": []
    }
  ]
}